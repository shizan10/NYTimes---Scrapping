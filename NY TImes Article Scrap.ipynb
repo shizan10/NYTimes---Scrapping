{
 "cells": [
  {
   "cell_type": "code",
   "execution_count": 1,
   "metadata": {
    "collapsed": true
   },
   "outputs": [],
   "source": [
    "import requests\n",
    "import json\n",
    "import math\n",
    "import csv"
   ]
  },
  {
   "cell_type": "code",
   "execution_count": 2,
   "metadata": {
    "collapsed": true
   },
   "outputs": [],
   "source": [
    "# set key\n",
    "key=\"c1d0b0be71524b30bdd89e1c27098eee\"\n",
    "\n",
    "# set base url\n",
    "base_url=\"http://api.nytimes.com/svc/search/v2/articlesearch\"\n",
    "\n",
    "# set response format\n",
    "response_format=\".json\"\n",
    "\n",
    "# set parameters\n",
    "search_params = {\"q\":\"Trump + Healthcare\",\n",
    "                 \"api-key\":key,\n",
    "                 \"begin_date\":\"20160501\", \n",
    "                 \"end_date\":\"20170430\"}"
   ]
  },
  {
   "cell_type": "code",
   "execution_count": 3,
   "metadata": {
    "collapsed": true
   },
   "outputs": [],
   "source": [
    "# make request\n",
    "r = requests.get(base_url+response_format, params=search_params)"
   ]
  },
  {
   "cell_type": "code",
   "execution_count": 6,
   "metadata": {},
   "outputs": [
    {
     "name": "stdout",
     "output_type": "stream",
     "text": [
      "{\"status\":\"OK\",\"copyright\":\"Copyright (c) 2018 The New York Times Company. All Rights Reserved.\",\"response\":{\"docs\":[{\"web_url\":\"https://www.nytimes.com/2017/04/29/us/politics/fact-checking-president-trump-through-his-first-100-days.html\",\"snippet\":\"In his first 100 days in office, President Trump has falsely boasted of attracting the largest inaugural crowd ever and leveled an unproved accusation that his predecessor spied on him.\",\"print_page\":\"0\",\"blog\":{},\"source\":\"The New York Times\",\"multimedia\":[{\"rank\":0,\"subtype\":\"thumbnail\",\"caption\":null,\"credit\":null,\"type\":\"image\",\"url\":\"images/2017/04/29/us/29factcheck1/29factcheck1-thumbStandard.jpg\",\"height\":75,\"width\":75,\"legacy\":{\"thumbnailheight\":75,\"thumbnail\":\"images/2017/04/29/us/29factcheck1/29factcheck1-thumbStandard.jpg\",\"thumbnailwidth\":75},\"subType\":\"thumbnail\",\"crop_name\":null},{\"rank\":0,\"subtype\":\"xlarge\",\"caption\":null,\"credit\":null,\"type\":\"image\",\"url\":\"images/2017/04/29/us/29factcheck1/29factcheck1-articleLarge.jpg\",\"hei\n"
     ]
    }
   ],
   "source": [
    "response_text= r.text\n",
    "print(response_text[:1000])"
   ]
  },
  {
   "cell_type": "code",
   "execution_count": 7,
   "metadata": {},
   "outputs": [
    {
     "name": "stdout",
     "output_type": "stream",
     "text": [
      "http://api.nytimes.com/svc/search/v2/articlesearch.json?q=Trump+%2B+Healthcare&api-key=c1d0b0be71524b30bdd89e1c27098eee&begin_date=20160501&end_date=20170430\n"
     ]
    }
   ],
   "source": [
    "print(r.url)"
   ]
  },
  {
   "cell_type": "code",
   "execution_count": 107,
   "metadata": {},
   "outputs": [],
   "source": [
    "# Convert JSON response to a dictionary because json text is similar to dictionary (key - value)\n",
    "data = json.loads(response_text)\n"
   ]
  },
  {
   "cell_type": "code",
   "execution_count": 9,
   "metadata": {},
   "outputs": [
    {
     "name": "stdout",
     "output_type": "stream",
     "text": [
      "dict_keys(['status', 'copyright', 'response'])\n"
     ]
    }
   ],
   "source": [
    "# dictionary is abt key value\n",
    "print(data.keys())"
   ]
  },
  {
   "cell_type": "code",
   "execution_count": 14,
   "metadata": {},
   "outputs": [
    {
     "data": {
      "text/plain": [
       "'OK'"
      ]
     },
     "execution_count": 14,
     "metadata": {},
     "output_type": "execute_result"
    }
   ],
   "source": [
    "data['status']\n"
   ]
  },
  {
   "cell_type": "code",
   "execution_count": 15,
   "metadata": {},
   "outputs": [
    {
     "data": {
      "text/plain": [
       "'Copyright (c) 2018 The New York Times Company. All Rights Reserved.'"
      ]
     },
     "execution_count": 15,
     "metadata": {},
     "output_type": "execute_result"
    }
   ],
   "source": [
    "data['copyright']"
   ]
  },
  {
   "cell_type": "code",
   "execution_count": 22,
   "metadata": {},
   "outputs": [],
   "source": [
    "docs = data ['response'],['docs']"
   ]
  },
  {
   "cell_type": "code",
   "execution_count": 106,
   "metadata": {},
   "outputs": [
    {
     "data": {
      "text/plain": [
       "list"
      ]
     },
     "execution_count": 106,
     "metadata": {},
     "output_type": "execute_result"
    }
   ],
   "source": [
    "type(docs)"
   ]
  },
  {
   "cell_type": "code",
   "execution_count": 24,
   "metadata": {},
   "outputs": [
    {
     "data": {
      "text/plain": [
       "tuple"
      ]
     },
     "execution_count": 24,
     "metadata": {},
     "output_type": "execute_result"
    }
   ],
   "source": [
    "type(docs)"
   ]
  },
  {
   "cell_type": "code",
   "execution_count": 38,
   "metadata": {},
   "outputs": [
    {
     "name": "stdout",
     "output_type": "stream",
     "text": [
      "76\n"
     ]
    }
   ],
   "source": [
    "# To get the number of hits\n",
    "hit = data['response']['meta']['hits']\n",
    "print(hit)"
   ]
  },
  {
   "cell_type": "code",
   "execution_count": 55,
   "metadata": {},
   "outputs": [
    {
     "data": {
      "text/plain": [
       "8"
      ]
     },
     "execution_count": 55,
     "metadata": {},
     "output_type": "execute_result"
    }
   ],
   "source": [
    "# no of pages (10 hits per pages)\n",
    "pages = int (math.ceil(hit/10))\n",
    "pages"
   ]
  },
  {
   "cell_type": "code",
   "execution_count": 56,
   "metadata": {},
   "outputs": [
    {
     "name": "stdout",
     "output_type": "stream",
     "text": [
      "page No 0\n",
      "page No 1\n",
      "page No 2\n",
      "page No 3\n",
      "page No 4\n",
      "page No 5\n",
      "page No 6\n",
      "page No 7\n"
     ]
    }
   ],
   "source": [
    "all_docs = []\n",
    "for i in range(pages):\n",
    "    print(\"page No %d\" %i)   \n",
    "    search_params ['page'] = i\n",
    "    r = requests.get(base_url+response_format, params=search_params)\n",
    "    data = json.loads(response_text)\n",
    "    docs = data ['response']['docs']\n",
    "    all_docs = all_docs + docs\n",
    "    "
   ]
  },
  {
   "cell_type": "code",
   "execution_count": 57,
   "metadata": {},
   "outputs": [
    {
     "data": {
      "text/plain": [
       "80"
      ]
     },
     "execution_count": 57,
     "metadata": {},
     "output_type": "execute_result"
    }
   ],
   "source": [
    "len(all_docs)"
   ]
  },
  {
   "cell_type": "code",
   "execution_count": 98,
   "metadata": {
    "collapsed": true
   },
   "outputs": [],
   "source": [
    "def format_articles(unformatted_docs):\n",
    "    formatted = []\n",
    "    for i in unformatted_docs:\n",
    "        dic = {}\n",
    "        dic['id'] = i['_id']\n",
    "        dic['headline'] = i['headline']['main']\n",
    "        dic['date'] = i['pub_date'] [0:10]\n",
    "        dic['source'] = i['source']\n",
    "        dic['document_type'] = i['document_type']\n",
    "        \n",
    "        formatted.append(dic)\n",
    "    return(formatted)"
   ]
  },
  {
   "cell_type": "code",
   "execution_count": 99,
   "metadata": {},
   "outputs": [],
   "source": [
    " all_formatted = format_articles(all_docs)\n"
   ]
  },
  {
   "cell_type": "code",
   "execution_count": 100,
   "metadata": {},
   "outputs": [
    {
     "data": {
      "text/plain": [
       "[{'date': '2017-04-29',\n",
       "  'document_type': 'article',\n",
       "  'headline': 'Fact-Checking President Trump Through His First 100 Days',\n",
       "  'id': '5904573e7c459f24986dcd81',\n",
       "  'source': 'The New York Times'},\n",
       " {'date': '2017-04-10',\n",
       "  'document_type': 'article',\n",
       "  'headline': 'Patients Prescribed Shelter and Medication Are Wary of Trump Cuts',\n",
       "  'id': '58ec02327c459f24986d97e1',\n",
       "  'source': 'The New York Times'},\n",
       " {'date': '2017-04-04',\n",
       "  'document_type': 'article',\n",
       "  'headline': 'Why an Open Market Won’t Repair American Health Care',\n",
       "  'id': '58e37cc47c459f24986d83f7',\n",
       "  'source': 'The New York Times'},\n",
       " {'date': '2017-03-22',\n",
       "  'document_type': 'article',\n",
       "  'headline': 'As Rivals Stand Silent, One Health Insurer Protests G.O.P. Plan',\n",
       "  'id': '58d2d3ee7c459f247805d64d',\n",
       "  'source': 'The New York Times'},\n",
       " {'date': '2017-03-17',\n",
       "  'document_type': 'article',\n",
       "  'headline': 'The Cost Can Be Debated, but Meals on Wheels Gets Results',\n",
       "  'id': '58cc39fe7c459f247805c820',\n",
       "  'source': 'The New York Times'}]"
      ]
     },
     "execution_count": 100,
     "metadata": {},
     "output_type": "execute_result"
    }
   ],
   "source": [
    "all_formatted[:5]"
   ]
  },
  {
   "cell_type": "code",
   "execution_count": 101,
   "metadata": {
    "collapsed": true
   },
   "outputs": [],
   "source": [
    "keys = all_formatted[1]\n",
    "with open('all-formated.csv', 'w') as output_file:\n",
    "    dict_writer = csv.DictWriter(output_file, keys)\n",
    "    dict_writer.writeheader()\n",
    "    dict_writer.writerows(all_formatted)"
   ]
  },
  {
   "cell_type": "code",
   "execution_count": 102,
   "metadata": {
    "collapsed": true
   },
   "outputs": [],
   "source": [
    "import pandas as pd\n",
    "import numpy as np"
   ]
  },
  {
   "cell_type": "code",
   "execution_count": 105,
   "metadata": {},
   "outputs": [
    {
     "data": {
      "text/html": [
       "<div>\n",
       "<style>\n",
       "    .dataframe thead tr:only-child th {\n",
       "        text-align: right;\n",
       "    }\n",
       "\n",
       "    .dataframe thead th {\n",
       "        text-align: left;\n",
       "    }\n",
       "\n",
       "    .dataframe tbody tr th {\n",
       "        vertical-align: top;\n",
       "    }\n",
       "</style>\n",
       "<table border=\"1\" class=\"dataframe\">\n",
       "  <thead>\n",
       "    <tr style=\"text-align: right;\">\n",
       "      <th></th>\n",
       "      <th>id</th>\n",
       "      <th>headline</th>\n",
       "      <th>date</th>\n",
       "      <th>source</th>\n",
       "      <th>document_type</th>\n",
       "    </tr>\n",
       "  </thead>\n",
       "  <tbody>\n",
       "    <tr>\n",
       "      <th>0</th>\n",
       "      <td>5904573e7c459f24986dcd81</td>\n",
       "      <td>Fact-Checking President Trump Through His Firs...</td>\n",
       "      <td>2017-04-29</td>\n",
       "      <td>The New York Times</td>\n",
       "      <td>article</td>\n",
       "    </tr>\n",
       "    <tr>\n",
       "      <th>1</th>\n",
       "      <td>58ec02327c459f24986d97e1</td>\n",
       "      <td>Patients Prescribed Shelter and Medication Are...</td>\n",
       "      <td>2017-04-10</td>\n",
       "      <td>The New York Times</td>\n",
       "      <td>article</td>\n",
       "    </tr>\n",
       "    <tr>\n",
       "      <th>2</th>\n",
       "      <td>58e37cc47c459f24986d83f7</td>\n",
       "      <td>Why an Open Market Won’t Repair American Healt...</td>\n",
       "      <td>2017-04-04</td>\n",
       "      <td>The New York Times</td>\n",
       "      <td>article</td>\n",
       "    </tr>\n",
       "    <tr>\n",
       "      <th>3</th>\n",
       "      <td>58d2d3ee7c459f247805d64d</td>\n",
       "      <td>As Rivals Stand Silent, One Health Insurer Pro...</td>\n",
       "      <td>2017-03-22</td>\n",
       "      <td>The New York Times</td>\n",
       "      <td>article</td>\n",
       "    </tr>\n",
       "    <tr>\n",
       "      <th>4</th>\n",
       "      <td>58cc39fe7c459f247805c820</td>\n",
       "      <td>The Cost Can Be Debated, but Meals on Wheels G...</td>\n",
       "      <td>2017-03-17</td>\n",
       "      <td>The New York Times</td>\n",
       "      <td>article</td>\n",
       "    </tr>\n",
       "  </tbody>\n",
       "</table>\n",
       "</div>"
      ],
      "text/plain": [
       "                         id  \\\n",
       "0  5904573e7c459f24986dcd81   \n",
       "1  58ec02327c459f24986d97e1   \n",
       "2  58e37cc47c459f24986d83f7   \n",
       "3  58d2d3ee7c459f247805d64d   \n",
       "4  58cc39fe7c459f247805c820   \n",
       "\n",
       "                                            headline        date  \\\n",
       "0  Fact-Checking President Trump Through His Firs...  2017-04-29   \n",
       "1  Patients Prescribed Shelter and Medication Are...  2017-04-10   \n",
       "2  Why an Open Market Won’t Repair American Healt...  2017-04-04   \n",
       "3  As Rivals Stand Silent, One Health Insurer Pro...  2017-03-22   \n",
       "4  The Cost Can Be Debated, but Meals on Wheels G...  2017-03-17   \n",
       "\n",
       "               source document_type  \n",
       "0  The New York Times       article  \n",
       "1  The New York Times       article  \n",
       "2  The New York Times       article  \n",
       "3  The New York Times       article  \n",
       "4  The New York Times       article  "
      ]
     },
     "execution_count": 105,
     "metadata": {},
     "output_type": "execute_result"
    }
   ],
   "source": [
    "df = pd.read_csv('all-formated.csv')\n",
    "df[:5]"
   ]
  },
  {
   "cell_type": "code",
   "execution_count": null,
   "metadata": {
    "collapsed": true
   },
   "outputs": [],
   "source": []
  }
 ],
 "metadata": {
  "kernelspec": {
   "display_name": "Python 3",
   "language": "python",
   "name": "python3"
  },
  "language_info": {
   "codemirror_mode": {
    "name": "ipython",
    "version": 3
   },
   "file_extension": ".py",
   "mimetype": "text/x-python",
   "name": "python",
   "nbconvert_exporter": "python",
   "pygments_lexer": "ipython3",
   "version": "3.6.1"
  }
 },
 "nbformat": 4,
 "nbformat_minor": 2
}
